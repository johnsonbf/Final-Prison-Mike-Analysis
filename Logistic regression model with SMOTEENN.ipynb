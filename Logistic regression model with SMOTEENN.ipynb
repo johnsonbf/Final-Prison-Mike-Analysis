{
 "cells": [
  {
   "cell_type": "markdown",
   "id": "087bfdae",
   "metadata": {},
   "source": [
    "## Preprocessing Data"
   ]
  },
  {
   "cell_type": "code",
   "execution_count": 1,
   "id": "235d34cc",
   "metadata": {},
   "outputs": [],
   "source": [
    "import warnings\n",
    "warnings.filterwarnings('ignore')"
   ]
  },
  {
   "cell_type": "code",
   "execution_count": 2,
   "id": "88bd5233",
   "metadata": {},
   "outputs": [],
   "source": [
    "# Import our dependencies\n",
    "import numpy as np\n",
    "import pandas as pd\n",
    "from pathlib import Path\n",
    "from collections import Counter\n",
    "from sklearn.model_selection import train_test_split\n",
    "from imblearn.combine import SMOTEENN\n",
    "from sklearn.linear_model import LogisticRegression\n",
    "from sklearn.metrics import confusion_matrix\n",
    "from sklearn.metrics import balanced_accuracy_score\n",
    "from imblearn.metrics import classification_report_imbalanced\n",
    "from sklearn.metrics import confusion_matrix, accuracy_score, classification_report"
   ]
  },
  {
   "cell_type": "code",
   "execution_count": 3,
   "id": "d5d8d407",
   "metadata": {},
   "outputs": [
    {
     "data": {
      "text/html": [
       "<div>\n",
       "<style scoped>\n",
       "    .dataframe tbody tr th:only-of-type {\n",
       "        vertical-align: middle;\n",
       "    }\n",
       "\n",
       "    .dataframe tbody tr th {\n",
       "        vertical-align: top;\n",
       "    }\n",
       "\n",
       "    .dataframe thead th {\n",
       "        text-align: right;\n",
       "    }\n",
       "</style>\n",
       "<table border=\"1\" class=\"dataframe\">\n",
       "  <thead>\n",
       "    <tr style=\"text-align: right;\">\n",
       "      <th></th>\n",
       "      <th>brewery_id</th>\n",
       "      <th>brewery_name</th>\n",
       "      <th>review_time</th>\n",
       "      <th>review_overall</th>\n",
       "      <th>review_aroma</th>\n",
       "      <th>review_appearance</th>\n",
       "      <th>review_profilename</th>\n",
       "      <th>beer_style</th>\n",
       "      <th>review_palate</th>\n",
       "      <th>review_taste</th>\n",
       "      <th>beer_name</th>\n",
       "      <th>beer_abv</th>\n",
       "      <th>beer_beerid</th>\n",
       "    </tr>\n",
       "    <tr>\n",
       "      <th>index</th>\n",
       "      <th></th>\n",
       "      <th></th>\n",
       "      <th></th>\n",
       "      <th></th>\n",
       "      <th></th>\n",
       "      <th></th>\n",
       "      <th></th>\n",
       "      <th></th>\n",
       "      <th></th>\n",
       "      <th></th>\n",
       "      <th></th>\n",
       "      <th></th>\n",
       "      <th></th>\n",
       "    </tr>\n",
       "  </thead>\n",
       "  <tbody>\n",
       "    <tr>\n",
       "      <th>0</th>\n",
       "      <td>10325</td>\n",
       "      <td>Vecchio Birraio</td>\n",
       "      <td>1234817823</td>\n",
       "      <td>1.5</td>\n",
       "      <td>2.0</td>\n",
       "      <td>2.5</td>\n",
       "      <td>stcules</td>\n",
       "      <td>Hefeweizen</td>\n",
       "      <td>1.5</td>\n",
       "      <td>1.5</td>\n",
       "      <td>Sausa Weizen</td>\n",
       "      <td>5.0</td>\n",
       "      <td>47986</td>\n",
       "    </tr>\n",
       "    <tr>\n",
       "      <th>1</th>\n",
       "      <td>10325</td>\n",
       "      <td>Vecchio Birraio</td>\n",
       "      <td>1235915097</td>\n",
       "      <td>3.0</td>\n",
       "      <td>2.5</td>\n",
       "      <td>3.0</td>\n",
       "      <td>stcules</td>\n",
       "      <td>English Strong Ale</td>\n",
       "      <td>3.0</td>\n",
       "      <td>3.0</td>\n",
       "      <td>Red Moon</td>\n",
       "      <td>6.2</td>\n",
       "      <td>48213</td>\n",
       "    </tr>\n",
       "    <tr>\n",
       "      <th>2</th>\n",
       "      <td>10325</td>\n",
       "      <td>Vecchio Birraio</td>\n",
       "      <td>1235916604</td>\n",
       "      <td>3.0</td>\n",
       "      <td>2.5</td>\n",
       "      <td>3.0</td>\n",
       "      <td>stcules</td>\n",
       "      <td>Foreign / Export Stout</td>\n",
       "      <td>3.0</td>\n",
       "      <td>3.0</td>\n",
       "      <td>Black Horse Black Beer</td>\n",
       "      <td>6.5</td>\n",
       "      <td>48215</td>\n",
       "    </tr>\n",
       "    <tr>\n",
       "      <th>3</th>\n",
       "      <td>10325</td>\n",
       "      <td>Vecchio Birraio</td>\n",
       "      <td>1234725145</td>\n",
       "      <td>3.0</td>\n",
       "      <td>3.0</td>\n",
       "      <td>3.5</td>\n",
       "      <td>stcules</td>\n",
       "      <td>German Pilsener</td>\n",
       "      <td>2.5</td>\n",
       "      <td>3.0</td>\n",
       "      <td>Sausa Pils</td>\n",
       "      <td>5.0</td>\n",
       "      <td>47969</td>\n",
       "    </tr>\n",
       "    <tr>\n",
       "      <th>4</th>\n",
       "      <td>1075</td>\n",
       "      <td>Caldera Brewing Company</td>\n",
       "      <td>1293735206</td>\n",
       "      <td>4.0</td>\n",
       "      <td>4.5</td>\n",
       "      <td>4.0</td>\n",
       "      <td>johnmichaelsen</td>\n",
       "      <td>American Double / Imperial IPA</td>\n",
       "      <td>4.0</td>\n",
       "      <td>4.5</td>\n",
       "      <td>Cauldron DIPA</td>\n",
       "      <td>7.7</td>\n",
       "      <td>64883</td>\n",
       "    </tr>\n",
       "    <tr>\n",
       "      <th>5</th>\n",
       "      <td>1075</td>\n",
       "      <td>Caldera Brewing Company</td>\n",
       "      <td>1325524659</td>\n",
       "      <td>3.0</td>\n",
       "      <td>3.5</td>\n",
       "      <td>3.5</td>\n",
       "      <td>oline73</td>\n",
       "      <td>Herbed / Spiced Beer</td>\n",
       "      <td>3.0</td>\n",
       "      <td>3.5</td>\n",
       "      <td>Caldera Ginger Beer</td>\n",
       "      <td>4.7</td>\n",
       "      <td>52159</td>\n",
       "    </tr>\n",
       "    <tr>\n",
       "      <th>6</th>\n",
       "      <td>1075</td>\n",
       "      <td>Caldera Brewing Company</td>\n",
       "      <td>1318991115</td>\n",
       "      <td>3.5</td>\n",
       "      <td>3.5</td>\n",
       "      <td>3.5</td>\n",
       "      <td>Reidrover</td>\n",
       "      <td>Herbed / Spiced Beer</td>\n",
       "      <td>4.0</td>\n",
       "      <td>4.0</td>\n",
       "      <td>Caldera Ginger Beer</td>\n",
       "      <td>4.7</td>\n",
       "      <td>52159</td>\n",
       "    </tr>\n",
       "    <tr>\n",
       "      <th>7</th>\n",
       "      <td>1075</td>\n",
       "      <td>Caldera Brewing Company</td>\n",
       "      <td>1306276018</td>\n",
       "      <td>3.0</td>\n",
       "      <td>2.5</td>\n",
       "      <td>3.5</td>\n",
       "      <td>alpinebryant</td>\n",
       "      <td>Herbed / Spiced Beer</td>\n",
       "      <td>2.0</td>\n",
       "      <td>3.5</td>\n",
       "      <td>Caldera Ginger Beer</td>\n",
       "      <td>4.7</td>\n",
       "      <td>52159</td>\n",
       "    </tr>\n",
       "    <tr>\n",
       "      <th>8</th>\n",
       "      <td>1075</td>\n",
       "      <td>Caldera Brewing Company</td>\n",
       "      <td>1290454503</td>\n",
       "      <td>4.0</td>\n",
       "      <td>3.0</td>\n",
       "      <td>3.5</td>\n",
       "      <td>LordAdmNelson</td>\n",
       "      <td>Herbed / Spiced Beer</td>\n",
       "      <td>3.5</td>\n",
       "      <td>4.0</td>\n",
       "      <td>Caldera Ginger Beer</td>\n",
       "      <td>4.7</td>\n",
       "      <td>52159</td>\n",
       "    </tr>\n",
       "    <tr>\n",
       "      <th>9</th>\n",
       "      <td>1075</td>\n",
       "      <td>Caldera Brewing Company</td>\n",
       "      <td>1285632924</td>\n",
       "      <td>4.5</td>\n",
       "      <td>3.5</td>\n",
       "      <td>5.0</td>\n",
       "      <td>augustgarage</td>\n",
       "      <td>Herbed / Spiced Beer</td>\n",
       "      <td>4.0</td>\n",
       "      <td>4.0</td>\n",
       "      <td>Caldera Ginger Beer</td>\n",
       "      <td>4.7</td>\n",
       "      <td>52159</td>\n",
       "    </tr>\n",
       "  </tbody>\n",
       "</table>\n",
       "</div>"
      ],
      "text/plain": [
       "       brewery_id             brewery_name  review_time  review_overall  \\\n",
       "index                                                                     \n",
       "0           10325          Vecchio Birraio   1234817823             1.5   \n",
       "1           10325          Vecchio Birraio   1235915097             3.0   \n",
       "2           10325          Vecchio Birraio   1235916604             3.0   \n",
       "3           10325          Vecchio Birraio   1234725145             3.0   \n",
       "4            1075  Caldera Brewing Company   1293735206             4.0   \n",
       "5            1075  Caldera Brewing Company   1325524659             3.0   \n",
       "6            1075  Caldera Brewing Company   1318991115             3.5   \n",
       "7            1075  Caldera Brewing Company   1306276018             3.0   \n",
       "8            1075  Caldera Brewing Company   1290454503             4.0   \n",
       "9            1075  Caldera Brewing Company   1285632924             4.5   \n",
       "\n",
       "       review_aroma  review_appearance review_profilename  \\\n",
       "index                                                       \n",
       "0               2.0                2.5            stcules   \n",
       "1               2.5                3.0            stcules   \n",
       "2               2.5                3.0            stcules   \n",
       "3               3.0                3.5            stcules   \n",
       "4               4.5                4.0     johnmichaelsen   \n",
       "5               3.5                3.5            oline73   \n",
       "6               3.5                3.5          Reidrover   \n",
       "7               2.5                3.5       alpinebryant   \n",
       "8               3.0                3.5      LordAdmNelson   \n",
       "9               3.5                5.0       augustgarage   \n",
       "\n",
       "                           beer_style  review_palate  review_taste  \\\n",
       "index                                                                \n",
       "0                          Hefeweizen            1.5           1.5   \n",
       "1                  English Strong Ale            3.0           3.0   \n",
       "2              Foreign / Export Stout            3.0           3.0   \n",
       "3                     German Pilsener            2.5           3.0   \n",
       "4      American Double / Imperial IPA            4.0           4.5   \n",
       "5                Herbed / Spiced Beer            3.0           3.5   \n",
       "6                Herbed / Spiced Beer            4.0           4.0   \n",
       "7                Herbed / Spiced Beer            2.0           3.5   \n",
       "8                Herbed / Spiced Beer            3.5           4.0   \n",
       "9                Herbed / Spiced Beer            4.0           4.0   \n",
       "\n",
       "                    beer_name  beer_abv  beer_beerid  \n",
       "index                                                 \n",
       "0                Sausa Weizen       5.0        47986  \n",
       "1                    Red Moon       6.2        48213  \n",
       "2      Black Horse Black Beer       6.5        48215  \n",
       "3                  Sausa Pils       5.0        47969  \n",
       "4               Cauldron DIPA       7.7        64883  \n",
       "5         Caldera Ginger Beer       4.7        52159  \n",
       "6         Caldera Ginger Beer       4.7        52159  \n",
       "7         Caldera Ginger Beer       4.7        52159  \n",
       "8         Caldera Ginger Beer       4.7        52159  \n",
       "9         Caldera Ginger Beer       4.7        52159  "
      ]
     },
     "execution_count": 3,
     "metadata": {},
     "output_type": "execute_result"
    }
   ],
   "source": [
    "#  Import and read the csv file.\n",
    "file_path = \"beer_reviews.csv\"\n",
    "beer_df = pd.read_csv(file_path, index_col=0)\n",
    "beer_df.head(10)"
   ]
  },
  {
   "cell_type": "code",
   "execution_count": 4,
   "id": "e324f37b",
   "metadata": {},
   "outputs": [
    {
     "data": {
      "text/plain": [
       "brewery_id                0\n",
       "brewery_name             15\n",
       "review_time               0\n",
       "review_overall            0\n",
       "review_aroma              0\n",
       "review_appearance         0\n",
       "review_profilename      348\n",
       "beer_style                0\n",
       "review_palate             0\n",
       "review_taste              0\n",
       "beer_name                 0\n",
       "beer_abv              67785\n",
       "beer_beerid               0\n",
       "dtype: int64"
      ]
     },
     "execution_count": 4,
     "metadata": {},
     "output_type": "execute_result"
    }
   ],
   "source": [
    "# Check for nulls\n",
    "beer_df.isnull().sum()"
   ]
  },
  {
   "cell_type": "code",
   "execution_count": 5,
   "id": "c22f107b",
   "metadata": {},
   "outputs": [],
   "source": [
    "# Drop nulls\n",
    "beer_df.dropna(inplace=True)"
   ]
  },
  {
   "cell_type": "code",
   "execution_count": 6,
   "id": "bf15207e",
   "metadata": {},
   "outputs": [
    {
     "data": {
      "text/plain": [
       "4.0    559790\n",
       "4.5    314303\n",
       "3.5    286901\n",
       "3.0    155840\n",
       "5.0     88997\n",
       "2.5     54660\n",
       "2.0     35737\n",
       "1.5     12032\n",
       "1.0     10211\n",
       "0.0         7\n",
       "Name: review_overall, dtype: int64"
      ]
     },
     "execution_count": 6,
     "metadata": {},
     "output_type": "execute_result"
    }
   ],
   "source": [
    "# Check value counts for 'overall review'\n",
    "beer_df.review_overall.value_counts()"
   ]
  },
  {
   "cell_type": "code",
   "execution_count": 7,
   "id": "2ce51da6",
   "metadata": {},
   "outputs": [
    {
     "data": {
      "text/plain": [
       "brewery_id               5230\n",
       "brewery_name             5155\n",
       "review_time           1510459\n",
       "review_overall             10\n",
       "review_aroma                9\n",
       "review_appearance          10\n",
       "review_profilename      32908\n",
       "beer_style                104\n",
       "review_palate               9\n",
       "review_taste                9\n",
       "beer_name               44075\n",
       "beer_abv                  530\n",
       "beer_beerid             49000\n",
       "dtype: int64"
      ]
     },
     "execution_count": 7,
     "metadata": {},
     "output_type": "execute_result"
    }
   ],
   "source": [
    "# Determine the number of unique values in each column.\n",
    "beer_df.nunique()"
   ]
  },
  {
   "cell_type": "code",
   "execution_count": 8,
   "id": "21057895",
   "metadata": {},
   "outputs": [
    {
     "data": {
      "text/html": [
       "<div>\n",
       "<style scoped>\n",
       "    .dataframe tbody tr th:only-of-type {\n",
       "        vertical-align: middle;\n",
       "    }\n",
       "\n",
       "    .dataframe tbody tr th {\n",
       "        vertical-align: top;\n",
       "    }\n",
       "\n",
       "    .dataframe thead th {\n",
       "        text-align: right;\n",
       "    }\n",
       "</style>\n",
       "<table border=\"1\" class=\"dataframe\">\n",
       "  <thead>\n",
       "    <tr style=\"text-align: right;\">\n",
       "      <th></th>\n",
       "      <th>review_overall</th>\n",
       "      <th>review_aroma</th>\n",
       "      <th>review_appearance</th>\n",
       "      <th>review_palate</th>\n",
       "      <th>review_taste</th>\n",
       "      <th>beer_abv</th>\n",
       "    </tr>\n",
       "    <tr>\n",
       "      <th>index</th>\n",
       "      <th></th>\n",
       "      <th></th>\n",
       "      <th></th>\n",
       "      <th></th>\n",
       "      <th></th>\n",
       "      <th></th>\n",
       "    </tr>\n",
       "  </thead>\n",
       "  <tbody>\n",
       "    <tr>\n",
       "      <th>0</th>\n",
       "      <td>1.5</td>\n",
       "      <td>2.0</td>\n",
       "      <td>2.5</td>\n",
       "      <td>1.5</td>\n",
       "      <td>1.5</td>\n",
       "      <td>5.0</td>\n",
       "    </tr>\n",
       "    <tr>\n",
       "      <th>1</th>\n",
       "      <td>3.0</td>\n",
       "      <td>2.5</td>\n",
       "      <td>3.0</td>\n",
       "      <td>3.0</td>\n",
       "      <td>3.0</td>\n",
       "      <td>6.2</td>\n",
       "    </tr>\n",
       "    <tr>\n",
       "      <th>2</th>\n",
       "      <td>3.0</td>\n",
       "      <td>2.5</td>\n",
       "      <td>3.0</td>\n",
       "      <td>3.0</td>\n",
       "      <td>3.0</td>\n",
       "      <td>6.5</td>\n",
       "    </tr>\n",
       "    <tr>\n",
       "      <th>3</th>\n",
       "      <td>3.0</td>\n",
       "      <td>3.0</td>\n",
       "      <td>3.5</td>\n",
       "      <td>2.5</td>\n",
       "      <td>3.0</td>\n",
       "      <td>5.0</td>\n",
       "    </tr>\n",
       "    <tr>\n",
       "      <th>4</th>\n",
       "      <td>4.0</td>\n",
       "      <td>4.5</td>\n",
       "      <td>4.0</td>\n",
       "      <td>4.0</td>\n",
       "      <td>4.5</td>\n",
       "      <td>7.7</td>\n",
       "    </tr>\n",
       "    <tr>\n",
       "      <th>5</th>\n",
       "      <td>3.0</td>\n",
       "      <td>3.5</td>\n",
       "      <td>3.5</td>\n",
       "      <td>3.0</td>\n",
       "      <td>3.5</td>\n",
       "      <td>4.7</td>\n",
       "    </tr>\n",
       "    <tr>\n",
       "      <th>6</th>\n",
       "      <td>3.5</td>\n",
       "      <td>3.5</td>\n",
       "      <td>3.5</td>\n",
       "      <td>4.0</td>\n",
       "      <td>4.0</td>\n",
       "      <td>4.7</td>\n",
       "    </tr>\n",
       "    <tr>\n",
       "      <th>7</th>\n",
       "      <td>3.0</td>\n",
       "      <td>2.5</td>\n",
       "      <td>3.5</td>\n",
       "      <td>2.0</td>\n",
       "      <td>3.5</td>\n",
       "      <td>4.7</td>\n",
       "    </tr>\n",
       "    <tr>\n",
       "      <th>8</th>\n",
       "      <td>4.0</td>\n",
       "      <td>3.0</td>\n",
       "      <td>3.5</td>\n",
       "      <td>3.5</td>\n",
       "      <td>4.0</td>\n",
       "      <td>4.7</td>\n",
       "    </tr>\n",
       "    <tr>\n",
       "      <th>9</th>\n",
       "      <td>4.5</td>\n",
       "      <td>3.5</td>\n",
       "      <td>5.0</td>\n",
       "      <td>4.0</td>\n",
       "      <td>4.0</td>\n",
       "      <td>4.7</td>\n",
       "    </tr>\n",
       "  </tbody>\n",
       "</table>\n",
       "</div>"
      ],
      "text/plain": [
       "       review_overall  review_aroma  review_appearance  review_palate  \\\n",
       "index                                                                   \n",
       "0                 1.5           2.0                2.5            1.5   \n",
       "1                 3.0           2.5                3.0            3.0   \n",
       "2                 3.0           2.5                3.0            3.0   \n",
       "3                 3.0           3.0                3.5            2.5   \n",
       "4                 4.0           4.5                4.0            4.0   \n",
       "5                 3.0           3.5                3.5            3.0   \n",
       "6                 3.5           3.5                3.5            4.0   \n",
       "7                 3.0           2.5                3.5            2.0   \n",
       "8                 4.0           3.0                3.5            3.5   \n",
       "9                 4.5           3.5                5.0            4.0   \n",
       "\n",
       "       review_taste  beer_abv  \n",
       "index                          \n",
       "0               1.5       5.0  \n",
       "1               3.0       6.2  \n",
       "2               3.0       6.5  \n",
       "3               3.0       5.0  \n",
       "4               4.5       7.7  \n",
       "5               3.5       4.7  \n",
       "6               4.0       4.7  \n",
       "7               3.5       4.7  \n",
       "8               4.0       4.7  \n",
       "9               4.0       4.7  "
      ]
     },
     "execution_count": 8,
     "metadata": {},
     "output_type": "execute_result"
    }
   ],
   "source": [
    "# Drop the non-beneficial columns.\n",
    "beer_df.drop(['brewery_id', 'brewery_name', 'review_time', 'review_profilename', \n",
    "              'beer_style', 'beer_name', 'beer_beerid'], axis=1, inplace=True)\n",
    "beer_df.head(10)"
   ]
  },
  {
   "cell_type": "code",
   "execution_count": 9,
   "id": "ae5a196a",
   "metadata": {},
   "outputs": [
    {
     "data": {
      "text/plain": [
       "review_overall        10\n",
       "review_aroma           9\n",
       "review_appearance     10\n",
       "review_palate          9\n",
       "review_taste           9\n",
       "beer_abv             530\n",
       "dtype: int64"
      ]
     },
     "execution_count": 9,
     "metadata": {},
     "output_type": "execute_result"
    }
   ],
   "source": [
    "# Determine the number of unique values in each column.\n",
    "beer_df.nunique()"
   ]
  },
  {
   "cell_type": "code",
   "execution_count": 10,
   "id": "573e502b",
   "metadata": {},
   "outputs": [
    {
     "data": {
      "text/plain": [
       "review_overall       float64\n",
       "review_aroma         float64\n",
       "review_appearance    float64\n",
       "review_palate        float64\n",
       "review_taste         float64\n",
       "beer_abv             float64\n",
       "dtype: object"
      ]
     },
     "execution_count": 10,
     "metadata": {},
     "output_type": "execute_result"
    }
   ],
   "source": [
    "# Check data types\n",
    "beer_df.dtypes"
   ]
  },
  {
   "cell_type": "code",
   "execution_count": 11,
   "id": "e32d4008",
   "metadata": {},
   "outputs": [
    {
     "data": {
      "text/plain": [
       "4.0    559790\n",
       "4.5    314303\n",
       "3.5    286901\n",
       "3.0    155840\n",
       "5.0     88997\n",
       "2.5     54660\n",
       "2.0     35737\n",
       "1.5     12032\n",
       "1.0     10211\n",
       "0.0         7\n",
       "Name: review_overall, dtype: int64"
      ]
     },
     "execution_count": 11,
     "metadata": {},
     "output_type": "execute_result"
    }
   ],
   "source": [
    "# Check value counts for 'overall review'\n",
    "beer_df.review_overall.value_counts()"
   ]
  },
  {
   "cell_type": "code",
   "execution_count": 12,
   "id": "69828fe8",
   "metadata": {},
   "outputs": [
    {
     "data": {
      "text/html": [
       "<div>\n",
       "<style scoped>\n",
       "    .dataframe tbody tr th:only-of-type {\n",
       "        vertical-align: middle;\n",
       "    }\n",
       "\n",
       "    .dataframe tbody tr th {\n",
       "        vertical-align: top;\n",
       "    }\n",
       "\n",
       "    .dataframe thead th {\n",
       "        text-align: right;\n",
       "    }\n",
       "</style>\n",
       "<table border=\"1\" class=\"dataframe\">\n",
       "  <thead>\n",
       "    <tr style=\"text-align: right;\">\n",
       "      <th></th>\n",
       "      <th>review_overall</th>\n",
       "      <th>review_aroma</th>\n",
       "      <th>review_appearance</th>\n",
       "      <th>review_palate</th>\n",
       "      <th>review_taste</th>\n",
       "      <th>beer_abv</th>\n",
       "    </tr>\n",
       "    <tr>\n",
       "      <th>index</th>\n",
       "      <th></th>\n",
       "      <th></th>\n",
       "      <th></th>\n",
       "      <th></th>\n",
       "      <th></th>\n",
       "      <th></th>\n",
       "    </tr>\n",
       "  </thead>\n",
       "  <tbody>\n",
       "    <tr>\n",
       "      <th>0</th>\n",
       "      <td>0.0</td>\n",
       "      <td>2.0</td>\n",
       "      <td>2.5</td>\n",
       "      <td>1.5</td>\n",
       "      <td>1.5</td>\n",
       "      <td>5.0</td>\n",
       "    </tr>\n",
       "    <tr>\n",
       "      <th>1</th>\n",
       "      <td>0.0</td>\n",
       "      <td>2.5</td>\n",
       "      <td>3.0</td>\n",
       "      <td>3.0</td>\n",
       "      <td>3.0</td>\n",
       "      <td>6.2</td>\n",
       "    </tr>\n",
       "    <tr>\n",
       "      <th>2</th>\n",
       "      <td>0.0</td>\n",
       "      <td>2.5</td>\n",
       "      <td>3.0</td>\n",
       "      <td>3.0</td>\n",
       "      <td>3.0</td>\n",
       "      <td>6.5</td>\n",
       "    </tr>\n",
       "    <tr>\n",
       "      <th>3</th>\n",
       "      <td>0.0</td>\n",
       "      <td>3.0</td>\n",
       "      <td>3.5</td>\n",
       "      <td>2.5</td>\n",
       "      <td>3.0</td>\n",
       "      <td>5.0</td>\n",
       "    </tr>\n",
       "    <tr>\n",
       "      <th>4</th>\n",
       "      <td>1.0</td>\n",
       "      <td>4.5</td>\n",
       "      <td>4.0</td>\n",
       "      <td>4.0</td>\n",
       "      <td>4.5</td>\n",
       "      <td>7.7</td>\n",
       "    </tr>\n",
       "  </tbody>\n",
       "</table>\n",
       "</div>"
      ],
      "text/plain": [
       "       review_overall  review_aroma  review_appearance  review_palate  \\\n",
       "index                                                                   \n",
       "0                 0.0           2.0                2.5            1.5   \n",
       "1                 0.0           2.5                3.0            3.0   \n",
       "2                 0.0           2.5                3.0            3.0   \n",
       "3                 0.0           3.0                3.5            2.5   \n",
       "4                 1.0           4.5                4.0            4.0   \n",
       "\n",
       "       review_taste  beer_abv  \n",
       "index                          \n",
       "0               1.5       5.0  \n",
       "1               3.0       6.2  \n",
       "2               3.0       6.5  \n",
       "3               3.0       5.0  \n",
       "4               4.5       7.7  "
      ]
     },
     "execution_count": 12,
     "metadata": {},
     "output_type": "execute_result"
    }
   ],
   "source": [
    "# Convert the target column values to 0 (3 or under) and 1 (3.5 or higher) based on their values\n",
    "beer_df.loc[beer_df['review_overall'] <= 3, 'review_overall'] = 0\n",
    "beer_df.loc[beer_df['review_overall'] > 3, 'review_overall'] = 1\n",
    "\n",
    "# Check to make sure binning was successful\n",
    "beer_df.head()"
   ]
  },
  {
   "cell_type": "code",
   "execution_count": 13,
   "id": "e3492712",
   "metadata": {},
   "outputs": [
    {
     "data": {
      "text/plain": [
       "1.0    1249991\n",
       "0.0     268487\n",
       "Name: review_overall, dtype: int64"
      ]
     },
     "execution_count": 13,
     "metadata": {},
     "output_type": "execute_result"
    }
   ],
   "source": [
    "# Check value counts for 'overall review' again to confirm values are either 0 or 1\n",
    "beer_df.review_overall.value_counts()"
   ]
  },
  {
   "cell_type": "markdown",
   "id": "f137dda5",
   "metadata": {},
   "source": [
    "## Create and Test Model 1 - Logistic Regression"
   ]
  },
  {
   "cell_type": "code",
   "execution_count": 14,
   "id": "07049dc4",
   "metadata": {},
   "outputs": [],
   "source": [
    "# Create our features\n",
    "X = beer_df.drop(columns='review_overall')\n",
    "\n",
    "# Create our target\n",
    "y = beer_df['review_overall']"
   ]
  },
  {
   "cell_type": "code",
   "execution_count": 15,
   "id": "36d74e9b",
   "metadata": {},
   "outputs": [
    {
     "data": {
      "text/plain": [
       "Counter({1.0: 937493, 0.0: 201365})"
      ]
     },
     "execution_count": 15,
     "metadata": {},
     "output_type": "execute_result"
    }
   ],
   "source": [
    "# Split the dataset into train and test sets\n",
    "X_train, X_test, y_train, y_test = train_test_split(X, y, random_state=1, stratify=y)\n",
    "Counter(y_train)"
   ]
  },
  {
   "cell_type": "markdown",
   "id": "bc5be0bc",
   "metadata": {},
   "source": [
    "### Our data is unbalanced. 17% from minority class"
   ]
  },
  {
   "cell_type": "code",
   "execution_count": 16,
   "id": "019dabec",
   "metadata": {},
   "outputs": [
    {
     "data": {
      "text/plain": [
       "Counter({0.0: 473568, 1.0: 777888})"
      ]
     },
     "execution_count": 16,
     "metadata": {},
     "output_type": "execute_result"
    }
   ],
   "source": [
    "# Resample using combination over and under sampling with SMOTEENN\n",
    "smote_enn = SMOTEENN(random_state=0)\n",
    "X_resampled, y_resampled = smote_enn.fit_resample(X_train, y_train)\n",
    "Counter(y_resampled)"
   ]
  },
  {
   "cell_type": "code",
   "execution_count": 17,
   "id": "1e4a01d2",
   "metadata": {},
   "outputs": [
    {
     "data": {
      "text/plain": [
       "LogisticRegression(random_state=1)"
      ]
     },
     "execution_count": 17,
     "metadata": {},
     "output_type": "execute_result"
    }
   ],
   "source": [
    "# Define and fit the model using Logistic Regression\n",
    "model = LogisticRegression(solver='lbfgs', random_state=1)\n",
    "model.fit(X_resampled, y_resampled)"
   ]
  },
  {
   "cell_type": "code",
   "execution_count": 18,
   "id": "651d0228",
   "metadata": {},
   "outputs": [
    {
     "data": {
      "text/html": [
       "<div>\n",
       "<style scoped>\n",
       "    .dataframe tbody tr th:only-of-type {\n",
       "        vertical-align: middle;\n",
       "    }\n",
       "\n",
       "    .dataframe tbody tr th {\n",
       "        vertical-align: top;\n",
       "    }\n",
       "\n",
       "    .dataframe thead th {\n",
       "        text-align: right;\n",
       "    }\n",
       "</style>\n",
       "<table border=\"1\" class=\"dataframe\">\n",
       "  <thead>\n",
       "    <tr style=\"text-align: right;\">\n",
       "      <th></th>\n",
       "      <th>Predicted 3 or under</th>\n",
       "      <th>Predicted 3.5 or over</th>\n",
       "    </tr>\n",
       "  </thead>\n",
       "  <tbody>\n",
       "    <tr>\n",
       "      <th>Actual 3 or under</th>\n",
       "      <td>53810</td>\n",
       "      <td>13312</td>\n",
       "    </tr>\n",
       "    <tr>\n",
       "      <th>Actual 3.5 or over</th>\n",
       "      <td>25038</td>\n",
       "      <td>287460</td>\n",
       "    </tr>\n",
       "  </tbody>\n",
       "</table>\n",
       "</div>"
      ],
      "text/plain": [
       "                    Predicted 3 or under  Predicted 3.5 or over\n",
       "Actual 3 or under                  53810                  13312\n",
       "Actual 3.5 or over                 25038                 287460"
      ]
     },
     "execution_count": 18,
     "metadata": {},
     "output_type": "execute_result"
    }
   ],
   "source": [
    "# Predict and print confusion matrix\n",
    "y_pred = model.predict(X_test)\n",
    "# Display the confusion matrix\n",
    "cm = confusion_matrix(y_test, y_pred)\n",
    "cm_df = pd.DataFrame(\n",
    "    cm, index=[\"Actual 3 or under\", \"Actual 3.5 or over\"], \n",
    "    columns=[\"Predicted 3 or under\",\"Predicted 3.5 or over\"]\n",
    ")\n",
    "\n",
    "cm_df"
   ]
  },
  {
   "cell_type": "code",
   "execution_count": 19,
   "id": "76243b5d",
   "metadata": {},
   "outputs": [
    {
     "data": {
      "text/plain": [
       "0.860776224977494"
      ]
     },
     "execution_count": 19,
     "metadata": {},
     "output_type": "execute_result"
    }
   ],
   "source": [
    "# Print accuracy score\n",
    "balanced_accuracy_score(y_test, y_pred)"
   ]
  },
  {
   "cell_type": "code",
   "execution_count": 20,
   "id": "12c19b23",
   "metadata": {},
   "outputs": [
    {
     "name": "stdout",
     "output_type": "stream",
     "text": [
      "                   pre       rec       spe        f1       geo       iba       sup\n",
      "\n",
      "        0.0       0.68      0.80      0.92      0.74      0.86      0.73     67122\n",
      "        1.0       0.96      0.92      0.80      0.94      0.86      0.75    312498\n",
      "\n",
      "avg / total       0.91      0.90      0.82      0.90      0.86      0.74    379620\n",
      "\n"
     ]
    }
   ],
   "source": [
    "# Print classification report\n",
    "print(classification_report_imbalanced(y_test, y_pred))"
   ]
  },
  {
   "cell_type": "code",
   "execution_count": null,
   "id": "997f45fb",
   "metadata": {},
   "outputs": [],
   "source": []
  }
 ],
 "metadata": {
  "kernelspec": {
   "display_name": "mlenv",
   "language": "python",
   "name": "mlenv"
  },
  "language_info": {
   "codemirror_mode": {
    "name": "ipython",
    "version": 3
   },
   "file_extension": ".py",
   "mimetype": "text/x-python",
   "name": "python",
   "nbconvert_exporter": "python",
   "pygments_lexer": "ipython3",
   "version": "3.7.13"
  }
 },
 "nbformat": 4,
 "nbformat_minor": 5
}
